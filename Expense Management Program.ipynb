{
 "cells": [
  {
   "cell_type": "code",
   "execution_count": 2,
   "id": "9e9b303d-8c9a-4e14-b9d4-cf855dee03c7",
   "metadata": {},
   "outputs": [
    {
     "name": "stdout",
     "output_type": "stream",
     "text": [
      "Expenses loaded from expenses.txt.\n",
      "\n",
      "Expense Tracker Menu:\n",
      "1. Add Expense\n",
      "2. View Expenses\n",
      "3. Delete Expense\n",
      "4. Show Total Expenses\n",
      "5. Save Expenses to File\n",
      "6. Exit\n"
     ]
    },
    {
     "name": "stdin",
     "output_type": "stream",
     "text": [
      "Choose an option:  2\n"
     ]
    },
    {
     "name": "stdout",
     "output_type": "stream",
     "text": [
      "\n",
      "Expenses:\n",
      "1. House Rent - $200.00\n",
      "2. 2 - $6.00\n",
      "\n",
      "Expense Tracker Menu:\n",
      "1. Add Expense\n",
      "2. View Expenses\n",
      "3. Delete Expense\n",
      "4. Show Total Expenses\n",
      "5. Save Expenses to File\n",
      "6. Exit\n"
     ]
    },
    {
     "name": "stdin",
     "output_type": "stream",
     "text": [
      "Choose an option:  2\n"
     ]
    },
    {
     "name": "stdout",
     "output_type": "stream",
     "text": [
      "\n",
      "Expenses:\n",
      "1. House Rent - $200.00\n",
      "2. 2 - $6.00\n",
      "\n",
      "Expense Tracker Menu:\n",
      "1. Add Expense\n",
      "2. View Expenses\n",
      "3. Delete Expense\n",
      "4. Show Total Expenses\n",
      "5. Save Expenses to File\n",
      "6. Exit\n"
     ]
    },
    {
     "name": "stdin",
     "output_type": "stream",
     "text": [
      "Choose an option:  3\n",
      "Enter expense number to delete:  2\n"
     ]
    },
    {
     "name": "stdout",
     "output_type": "stream",
     "text": [
      "Deleted expense: 2 - $6.00\n",
      "\n",
      "Expense Tracker Menu:\n",
      "1. Add Expense\n",
      "2. View Expenses\n",
      "3. Delete Expense\n",
      "4. Show Total Expenses\n",
      "5. Save Expenses to File\n",
      "6. Exit\n"
     ]
    },
    {
     "name": "stdin",
     "output_type": "stream",
     "text": [
      "Choose an option:  2\n"
     ]
    },
    {
     "name": "stdout",
     "output_type": "stream",
     "text": [
      "\n",
      "Expenses:\n",
      "1. House Rent - $200.00\n",
      "\n",
      "Expense Tracker Menu:\n",
      "1. Add Expense\n",
      "2. View Expenses\n",
      "3. Delete Expense\n",
      "4. Show Total Expenses\n",
      "5. Save Expenses to File\n",
      "6. Exit\n"
     ]
    },
    {
     "name": "stdin",
     "output_type": "stream",
     "text": [
      "Choose an option:  1\n",
      "Enter expense description:  House Rent\n",
      "Enter expense amount:  500\n"
     ]
    },
    {
     "name": "stdout",
     "output_type": "stream",
     "text": [
      "Expense added successfully!\n",
      "\n",
      "Expense Tracker Menu:\n",
      "1. Add Expense\n",
      "2. View Expenses\n",
      "3. Delete Expense\n",
      "4. Show Total Expenses\n",
      "5. Save Expenses to File\n",
      "6. Exit\n"
     ]
    },
    {
     "name": "stdin",
     "output_type": "stream",
     "text": [
      "Choose an option:  2\n"
     ]
    },
    {
     "name": "stdout",
     "output_type": "stream",
     "text": [
      "\n",
      "Expenses:\n",
      "1. House Rent - $200.00\n",
      "2. House Rent - $500.00\n",
      "\n",
      "Expense Tracker Menu:\n",
      "1. Add Expense\n",
      "2. View Expenses\n",
      "3. Delete Expense\n",
      "4. Show Total Expenses\n",
      "5. Save Expenses to File\n",
      "6. Exit\n"
     ]
    },
    {
     "name": "stdin",
     "output_type": "stream",
     "text": [
      "Choose an option:  4\n"
     ]
    },
    {
     "name": "stdout",
     "output_type": "stream",
     "text": [
      "\n",
      "Total Expenses: $700.00\n",
      "\n",
      "Expense Tracker Menu:\n",
      "1. Add Expense\n",
      "2. View Expenses\n",
      "3. Delete Expense\n",
      "4. Show Total Expenses\n",
      "5. Save Expenses to File\n",
      "6. Exit\n"
     ]
    },
    {
     "name": "stdin",
     "output_type": "stream",
     "text": [
      "Choose an option:  6\n"
     ]
    },
    {
     "name": "stdout",
     "output_type": "stream",
     "text": [
      "Exiting program. Goodbye!\n"
     ]
    }
   ],
   "source": [
    "class ExpenseManager:\n",
    "    def __init__(self):\n",
    "        self.expenses = []\n",
    "\n",
    "    def add_expense(self, description, amount):\n",
    "        try:\n",
    "            amount = float(amount)\n",
    "            self.expenses.append({\"description\": description, \"amount\": amount})\n",
    "            print(\"Expense added successfully!\")\n",
    "        except ValueError:\n",
    "            print(\"Error: Amount must be a number.\")\n",
    "\n",
    "    def view_expenses(self):\n",
    "        if not self.expenses:\n",
    "            print(\"No expenses to show.\")\n",
    "        else:\n",
    "            print(\"\\nExpenses:\")\n",
    "            for i, expense in enumerate(self.expenses):\n",
    "                print(f\"{i + 1}. {expense['description']} - ${expense['amount']:.2f}\")\n",
    "\n",
    "    def delete_expense(self, index):\n",
    "        try:\n",
    "            index = int(index) - 1\n",
    "            if 0 <= index < len(self.expenses):\n",
    "                removed = self.expenses.pop(index)\n",
    "                print(f\"Deleted expense: {removed['description']} - ${removed['amount']:.2f}\")\n",
    "            else:\n",
    "                print(\"Error: Invalid index.\")\n",
    "        except (ValueError, IndexError):\n",
    "            print(\"Error: Please enter a valid number.\")\n",
    "\n",
    "    def calculate_total(self):\n",
    "        total = sum(expense['amount'] for expense in self.expenses)\n",
    "        print(f\"\\nTotal Expenses: ${total:.2f}\")\n",
    "\n",
    "    def save_to_file(self, filename=\"expenses.txt\"):\n",
    "        try:\n",
    "            with open(filename, \"w\") as file:\n",
    "                for expense in self.expenses:\n",
    "                    file.write(f\"{expense['description']},{expense['amount']}\\n\")\n",
    "            print(f\"Expenses saved to {filename}.\")\n",
    "        except Exception as e:\n",
    "            print(f\"Error saving file: {e}\")\n",
    "\n",
    "    def load_from_file(self, filename=\"expenses.txt\"):\n",
    "        try:\n",
    "            with open(filename, \"r\") as file:\n",
    "                self.expenses = []\n",
    "                for line in file:\n",
    "                    description, amount = line.strip().split(\",\")\n",
    "                    self.expenses.append({\"description\": description, \"amount\": float(amount)})\n",
    "            print(f\"Expenses loaded from {filename}.\")\n",
    "        except FileNotFoundError:\n",
    "            print(f\"File {filename} not found. Starting with an empty expense list.\")\n",
    "        except Exception as e:\n",
    "            print(f\"Error loading file: {e}\")\n",
    "\n",
    "\n",
    "manager = ExpenseManager()\n",
    "manager.load_from_file()\n",
    "\n",
    "while True:\n",
    "    print(\"\\nExpense Tracker Menu:\")\n",
    "    print(\"1. Add Expense\")\n",
    "    print(\"2. View Expenses\")\n",
    "    print(\"3. Delete Expense\")\n",
    "    print(\"4. Show Total Expenses\")\n",
    "    print(\"5. Save Expenses to File\")\n",
    "    print(\"6. Exit\")\n",
    "\n",
    "    choice = input(\"Choose an option: \")\n",
    "\n",
    "    if choice == \"1\":\n",
    "        description = input(\"Enter expense description: \")\n",
    "        amount = input(\"Enter expense amount: \")\n",
    "        manager.add_expense(description, amount)\n",
    "    elif choice == \"2\":\n",
    "        manager.view_expenses()\n",
    "    elif choice == \"3\":\n",
    "        index = input(\"Enter expense number to delete: \")\n",
    "        manager.delete_expense(index)\n",
    "    elif choice == \"4\":\n",
    "        manager.calculate_total()\n",
    "    elif choice == \"5\":\n",
    "        manager.save_to_file()\n",
    "    elif choice == \"6\":\n",
    "        print(\"Exiting program. Goodbye!\")\n",
    "        break\n",
    "    else:\n",
    "        print(\"Invalid choice. Please try again.\")"
   ]
  },
  {
   "cell_type": "code",
   "execution_count": null,
   "id": "6713dc25-3a20-458f-8c73-e00d4c8572ba",
   "metadata": {},
   "outputs": [
    {
     "name": "stdout",
     "output_type": "stream",
     "text": [
      "\n",
      "1. Add Expense\n",
      "2. View Expenses\n",
      "3. Delete Expense\n",
      "4. Show Total\n",
      "5. Save\n",
      "6. Exit\n"
     ]
    }
   ],
   "source": [
    "class ExpenseManager:\n",
    "    def __init__(self):\n",
    "        self.expenses = []\n",
    "\n",
    "    def add_expense(self, description, amount):\n",
    "        try:\n",
    "            self.expenses.append({\"description\": description, \"amount\": float(amount)})\n",
    "            print(\"Expense added!\")\n",
    "        except ValueError:\n",
    "            print(\"Amount must be a number.\")\n",
    "\n",
    "    def view_expenses(self):\n",
    "        if not self.expenses:\n",
    "            print(\"No expenses recorded.\")\n",
    "        else:\n",
    "            for i, e in enumerate(self.expenses, 1):\n",
    "                print(f\"{i}. {e['description']} - ${e['amount']:.2f}\")\n",
    "\n",
    "    def delete_expense(self, index):\n",
    "        try:\n",
    "            removed = self.expenses.pop(int(index) - 1)\n",
    "            print(f\"Deleted: {removed['description']} - ${removed['amount']:.2f}\")\n",
    "        except (ValueError, IndexError):\n",
    "            print(\"Invalid index.\")\n",
    "\n",
    "    def calculate_total(self):\n",
    "        total = sum(e['amount'] for e in self.expenses)\n",
    "        print(f\"Total: ${total:.2f}\")\n",
    "\n",
    "    def save_to_file(self):\n",
    "        with open(\"expenses.txt\", \"w\") as file:\n",
    "            for e in self.expenses:\n",
    "                file.write(f\"{e['description']},{e['amount']}\\n\")\n",
    "        print(\"Expenses saved!\")\n",
    "\n",
    "    def load_from_file(self):\n",
    "        try:\n",
    "            with open(\"expenses.txt\", \"r\") as file:\n",
    "                self.expenses = [\n",
    "                    {\"description\": d, \"amount\": float(a)}\n",
    "                    for d, a in (line.strip().split(\",\") for line in file)\n",
    "                ]\n",
    "        except FileNotFoundError:\n",
    "            print(\"No saved expenses found.\")\n",
    "\n",
    "while True:\n",
    "    print(\"\\n1. Add Expense\\n2. View Expenses\\n3. Delete Expense\\n4. Show Total\\n5. Save\\n6. Exit\")\n",
    "    choice = input(\"Choose an option: \")\n",
    "\n",
    "    if choice == \"1\":\n",
    "        manager.add_expense(input(\"Description: \"), input(\"Amount: \"))\n",
    "    elif choice == \"2\":\n",
    "        manager.view_expenses()\n",
    "    elif choice == \"3\":\n",
    "        manager.delete_expense(input(\"Expense number: \"))\n",
    "    elif choice == \"4\":\n",
    "        manager.calculate_total()\n",
    "    elif choice == \"5\":\n",
    "        manager.save_to_file()\n",
    "    elif choice == \"6\":\n",
    "        print(\"Goodbye!\")\n",
    "        break\n",
    "    else:\n",
    "        print(\"Invalid choice.\")\n"
   ]
  },
  {
   "cell_type": "code",
   "execution_count": null,
   "id": "abe49e50-b0f6-4935-907a-5b553ee10e92",
   "metadata": {},
   "outputs": [],
   "source": []
  }
 ],
 "metadata": {
  "kernelspec": {
   "display_name": "Python 3 (ipykernel)",
   "language": "python",
   "name": "python3"
  },
  "language_info": {
   "codemirror_mode": {
    "name": "ipython",
    "version": 3
   },
   "file_extension": ".py",
   "mimetype": "text/x-python",
   "name": "python",
   "nbconvert_exporter": "python",
   "pygments_lexer": "ipython3",
   "version": "3.13.1"
  }
 },
 "nbformat": 4,
 "nbformat_minor": 5
}
